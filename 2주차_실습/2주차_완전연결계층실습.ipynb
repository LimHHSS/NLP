{
 "cells": [
  {
   "cell_type": "code",
   "execution_count": 2,
   "metadata": {},
   "outputs": [
    {
     "name": "stdout",
     "output_type": "stream",
     "text": [
      "[[-0.72273842 -0.65789082 -0.48837368  0.50691894]\n",
      " [ 1.99655348  0.02906224  1.32098995 -0.09108849]\n",
      " [ 1.15404884  0.00746754  0.14777922  0.74366796]\n",
      " [ 0.98983823  0.02198952 -0.14089171  0.96998122]\n",
      " [-2.88975931 -1.54787869 -0.83293189 -0.17987358]\n",
      " [ 4.32895162  1.03910056  1.52484687  0.82515948]\n",
      " [ 0.90799254 -0.32859457  0.86148532 -0.13243234]\n",
      " [ 1.94223089  0.12836064  0.92278898  0.30469402]\n",
      " [ 4.33984156  1.08031531  1.40887723  0.95339261]\n",
      " [-1.38437132 -1.23864846  0.39637181 -0.75227063]]\n"
     ]
    }
   ],
   "source": [
    "import numpy as np\n",
    "\n",
    "W1 = np.random.randn(2,4) # 가중치\n",
    "b1 = np.random.randn(4) # 편향\n",
    "x = np.random.randn(10,2) # 입력\n",
    "h = np.matmul(x, W1) + b1 \n",
    "\n",
    "print(h)"
   ]
  },
  {
   "cell_type": "code",
   "execution_count": 3,
   "metadata": {},
   "outputs": [
    {
     "name": "stdout",
     "output_type": "stream",
     "text": [
      "[[ 1.50452507 -0.85021278 -2.9772356 ]\n",
      " [ 1.18139191 -0.62095855 -3.00584143]\n",
      " [ 1.20809046  0.14062824 -2.79147824]\n",
      " [ 1.59144565 -0.38450935 -2.94094348]\n",
      " [ 2.02233648 -1.44289629 -2.73900788]\n",
      " [ 0.46257682  0.02100689 -2.99946488]\n",
      " [ 2.01064265 -1.02982713 -2.84908841]\n",
      " [ 2.04178839 -0.56638037 -2.93445444]\n",
      " [ 1.4245603  -1.13288154 -3.02037155]\n",
      " [ 1.84669652 -0.4726187  -2.94199029]]\n"
     ]
    }
   ],
   "source": [
    "import numpy as np\n",
    "\n",
    "def sigmoid(x):\n",
    "    return 1 / (1 + np.exp(-x))  ## numpy에 exp 함수가 존재. exp(-x)는 e^-x를 의미함\n",
    "\n",
    "x = np.random.randn(10, 2)\n",
    "W1 = np.random.randn(2, 4)\n",
    "b1 = np.random.randn(4)\n",
    "W2 = np.random.randn(4, 3)\n",
    "b2 = np.random.randn(3)\n",
    "\n",
    "h = np.matmul(x, W1) + b1\n",
    "a = sigmoid(h)\n",
    "s = np.matmul(a, W2) + b2\n",
    "\n",
    "print(s)"
   ]
  },
  {
   "cell_type": "code",
   "execution_count": null,
   "metadata": {},
   "outputs": [],
   "source": [
    "class Sigmoid:    # 시그모이드 계층\n",
    "    def __init__(self):\n",
    "        self.params = []\n",
    "        \n",
    "    def forward(self, x):\n",
    "        return 1 / (1 + np.exp(-x))\n",
    "    \n",
    "class Affine:     # Affine 계층\n",
    "    def __init__(self, W, b):       \n",
    "        self.params = [W, b]\n",
    "        \n",
    "    def forward(self, x):\n",
    "        W, b = self.params\n",
    "        out = np.matmul(x, W) + b\n",
    "        return out\n",
    "    \n",
    "class TwoLayerNet:    # 2층 신경망\n",
    "    def __init__(self, input_size, hidden_size, output_size):\n",
    "        I, H, O = input_size, hidden_size, output_size\n",
    "        \n",
    "        # 가중치와 편향 초기화 (파라미터 초기화)\n",
    "        W1 = np.random.randn(I, H)\n",
    "        b1 = np.random.randn(H)\n",
    "        W2 = np.random.randn(H, O)\n",
    "        b2 = np.random.randn(O)\n",
    "\n",
    "        # 계층 생성\n",
    "        self.layers = [\n",
    "            Affine(W1, b1),\n",
    "            Sigmoid(),\n",
    "            Affine(W2, b2)\n",
    "        ]\n",
    "\n",
    "        # 모든 가중치를 리스트에 모은다. (각 계층의 params를 리스트에 추가하는 코드)\n",
    "        self.params = []\n",
    "        for layer in self.layers:\n",
    "            self.params += layer.params\n",
    "    \n",
    "    def predict(self, x):\n",
    "        for layer in self.layers:\n",
    "            x = layer.forward(x)\n",
    "        return x\n",
    "    "
   ]
  },
  {
   "cell_type": "markdown",
   "metadata": {},
   "source": [
    "## SGD 구현 (p.28)  -- 미니 배치 데이터 미입력됨"
   ]
  },
  {
   "cell_type": "code",
   "execution_count": null,
   "metadata": {},
   "outputs": [
    {
     "ename": "NameError",
     "evalue": "name 'get_mini_batch' is not defined",
     "output_type": "error",
     "traceback": [
      "\u001b[1;31m---------------------------------------------------------------------------\u001b[0m",
      "\u001b[1;31mNameError\u001b[0m                                 Traceback (most recent call last)",
      "Cell \u001b[1;32mIn[9], line 13\u001b[0m\n\u001b[0;32m     10\u001b[0m optimizer \u001b[38;5;241m=\u001b[39m SGD()\n\u001b[0;32m     12\u001b[0m \u001b[38;5;28;01mfor\u001b[39;00m i \u001b[38;5;129;01min\u001b[39;00m \u001b[38;5;28mrange\u001b[39m(\u001b[38;5;241m10000\u001b[39m):  \u001b[38;5;66;03m# 반복 횟수 설정\u001b[39;00m\n\u001b[1;32m---> 13\u001b[0m     x_batch, t_batch \u001b[38;5;241m=\u001b[39m get_mini_batch(\u001b[38;5;241m.\u001b[39m\u001b[38;5;241m.\u001b[39m\u001b[38;5;241m.\u001b[39m)  \u001b[38;5;66;03m# 미니배치 데이터 가져오기\u001b[39;00m\n\u001b[0;32m     14\u001b[0m     loss \u001b[38;5;241m=\u001b[39m model\u001b[38;5;241m.\u001b[39mforward(x_batch, t_batch)  \u001b[38;5;66;03m# 순전파로 손실 계산\u001b[39;00m\n\u001b[0;32m     15\u001b[0m     model\u001b[38;5;241m.\u001b[39mbackward()  \u001b[38;5;66;03m# 역전파로 기울기 계산\u001b[39;00m\n",
      "\u001b[1;31mNameError\u001b[0m: name 'get_mini_batch' is not defined"
     ]
    }
   ],
   "source": [
    "class SGD:\n",
    "    def __init__(self, lr=0.01):\n",
    "        self.lr = lr\n",
    "        \n",
    "    def update(self, params, grads):\n",
    "        for i in range(len(params)):\n",
    "            params[i] -= self.lr * grads[i]\n",
    "\n",
    "model = TwoLayerNet(2, 4, 3)   # input_size=2, hidden_size=4, output_size=3으로 설정 / # 입력 크기: 2 -> 은닉층 크기: 4 -> 출력 크기: 3 (교재엔 ...으로 되어있음)\n",
    "optimizer = SGD()\n",
    "\n",
    "for i in range(10000):  # 반복 횟수 설정\n",
    "    \"\"\"미니 배치 설정 생략됨\"\"\"\n",
    "    x_batch, t_batch = get_mini_batch(...)  # 미니배치 데이터 가져오기\n",
    "    loss = model.forward(x_batch, t_batch)  # 순전파로 손실 계산\n",
    "    model.backward()  # 역전파로 기울기 계산\n",
    "    optimizer.update(model.params, model.grads)  # SGD로 매개변수 갱신"
   ]
  }
 ],
 "metadata": {
  "kernelspec": {
   "display_name": "base",
   "language": "python",
   "name": "python3"
  },
  "language_info": {
   "codemirror_mode": {
    "name": "ipython",
    "version": 3
   },
   "file_extension": ".py",
   "mimetype": "text/x-python",
   "name": "python",
   "nbconvert_exporter": "python",
   "pygments_lexer": "ipython3",
   "version": "3.11.7"
  }
 },
 "nbformat": 4,
 "nbformat_minor": 2
}
